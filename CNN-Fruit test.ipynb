{
 "cells": [
  {
   "cell_type": "code",
   "execution_count": 3,
   "metadata": {},
   "outputs": [],
   "source": [
    "from tensorflow.keras.models import Sequential\n",
    "from tensorflow.keras.layers import Dense,Convolution2D,MaxPooling2D,Flatten\n",
    "from tensorflow.keras.layers import Dropout"
   ]
  },
  {
   "cell_type": "code",
   "execution_count": 4,
   "metadata": {},
   "outputs": [],
   "source": [
    "from tensorflow.keras.preprocessing.image import ImageDataGenerator\n",
    "train_datagen=ImageDataGenerator(rescale=1./255,shear_range=0.2,zoom_range=0.2,horizontal_flip=True)\n",
    "test_datagen=ImageDataGenerator(rescale=1./255)"
   ]
  },
  {
   "cell_type": "code",
   "execution_count": 5,
   "metadata": {},
   "outputs": [
    {
     "name": "stdout",
     "output_type": "stream",
     "text": [
      "Found 5384 images belonging to 6 classes.\n",
      "Found 1685 images belonging to 6 classes.\n"
     ]
    }
   ],
   "source": [
    "x_train=train_datagen.flow_from_directory(r'E:\\VIT\\Plant Fertilizer recommendation\\fruit-dataset\\train',target_size=(64,64),batch_size=32,class_mode=\"categorical\")\n",
    "x_test=test_datagen.flow_from_directory(r'E:\\VIT\\Plant Fertilizer recommendation\\fruit-dataset\\test',target_size=(64,64),batch_size=32,class_mode=\"categorical\")"
   ]
  },
  {
   "cell_type": "code",
   "execution_count": 7,
   "metadata": {},
   "outputs": [
    {
     "data": {
      "text/plain": [
       "{'Apple___Black_rot': 0,\n",
       " 'Apple___healthy': 1,\n",
       " 'Corn_(maize)___Northern_Leaf_Blight': 2,\n",
       " 'Corn_(maize)___healthy': 3,\n",
       " 'Peach___Bacterial_spot': 4,\n",
       " 'Peach___healthy': 5}"
      ]
     },
     "execution_count": 7,
     "metadata": {},
     "output_type": "execute_result"
    }
   ],
   "source": [
    "x_train.class_indices"
   ]
  },
  {
   "cell_type": "code",
   "execution_count": 8,
   "metadata": {},
   "outputs": [],
   "source": [
    "model=Sequential()"
   ]
  },
  {
   "cell_type": "code",
   "execution_count": 9,
   "metadata": {},
   "outputs": [
    {
     "name": "stdout",
     "output_type": "stream",
     "text": [
      "WARNING:tensorflow:From C:\\Users\\angelina\\Anaconda3\\lib\\site-packages\\tensorflow\\python\\ops\\init_ops.py:1251: calling VarianceScaling.__init__ (from tensorflow.python.ops.init_ops) with dtype is deprecated and will be removed in a future version.\n",
      "Instructions for updating:\n",
      "Call initializer instance with the dtype argument instead of passing it to the constructor\n"
     ]
    }
   ],
   "source": [
    "model.add(Convolution2D(32,(3,3),input_shape=(64,64,3)))"
   ]
  },
  {
   "cell_type": "code",
   "execution_count": 10,
   "metadata": {},
   "outputs": [],
   "source": [
    "model.add(MaxPooling2D((2,2)))"
   ]
  },
  {
   "cell_type": "code",
   "execution_count": 11,
   "metadata": {},
   "outputs": [],
   "source": [
    "model.add(Flatten())"
   ]
  },
  {
   "cell_type": "code",
   "execution_count": 12,
   "metadata": {},
   "outputs": [
    {
     "name": "stdout",
     "output_type": "stream",
     "text": [
      "WARNING:tensorflow:From C:\\Users\\angelina\\Anaconda3\\lib\\site-packages\\tensorflow\\python\\keras\\initializers.py:119: calling RandomUniform.__init__ (from tensorflow.python.ops.init_ops) with dtype is deprecated and will be removed in a future version.\n",
      "Instructions for updating:\n",
      "Call initializer instance with the dtype argument instead of passing it to the constructor\n"
     ]
    }
   ],
   "source": [
    "model.add(Dense(units=128,kernel_initializer=\"random_uniform\",activation=\"relu\"))"
   ]
  },
  {
   "cell_type": "code",
   "execution_count": 13,
   "metadata": {},
   "outputs": [],
   "source": [
    "model.add(Dropout(0.2))"
   ]
  },
  {
   "cell_type": "code",
   "execution_count": 14,
   "metadata": {},
   "outputs": [],
   "source": [
    "model.add(Dense(units=6,kernel_initializer=\"random_uniform\",activation=\"softmax\"))"
   ]
  },
  {
   "cell_type": "code",
   "execution_count": 15,
   "metadata": {},
   "outputs": [],
   "source": [
    "model.add(Dense(units=6,kernel_initializer=\"random_uniform\",activation=\"softmax\"))"
   ]
  },
  {
   "cell_type": "code",
   "execution_count": 16,
   "metadata": {},
   "outputs": [],
   "source": [
    "model.compile(optimizer=\"adam\",loss=\"categorical_crossentropy\",metrics=[\"accuracy\"])"
   ]
  },
  {
   "cell_type": "code",
   "execution_count": 17,
   "metadata": {},
   "outputs": [
    {
     "name": "stdout",
     "output_type": "stream",
     "text": [
      "Epoch 1/30\n",
      "45/45 [==============================] - 112s 2s/step - loss: 1.7682 - acc: 0.3646 - val_loss: 1.7450 - val_acc: 0.4268\n",
      "Epoch 2/30\n",
      "45/45 [==============================] - 51s 1s/step - loss: 1.7157 - acc: 0.5106 - val_loss: 1.6891 - val_acc: 0.5312\n",
      "Epoch 3/30\n",
      "45/45 [==============================] - 48s 1s/step - loss: 1.6738 - acc: 0.5014 - val_loss: 1.6407 - val_acc: 0.5312\n",
      "Epoch 4/30\n",
      "45/45 [==============================] - 65s 1s/step - loss: 1.6298 - acc: 0.5326 - val_loss: 1.6007 - val_acc: 0.6429\n",
      "Epoch 5/30\n",
      "45/45 [==============================] - 47s 1s/step - loss: 1.5508 - acc: 0.6826 - val_loss: 1.5086 - val_acc: 0.7214\n",
      "Epoch 6/30\n",
      "45/45 [==============================] - 51s 1s/step - loss: 1.5087 - acc: 0.6660 - val_loss: 1.4793 - val_acc: 0.6929\n",
      "Epoch 7/30\n",
      "45/45 [==============================] - 20s 443ms/step - loss: 1.4663 - acc: 0.6646 - val_loss: 1.4269 - val_acc: 0.6830\n",
      "Epoch 8/30\n",
      "45/45 [==============================] - 9s 191ms/step - loss: 1.4488 - acc: 0.6342 - val_loss: 1.3912 - val_acc: 0.6938\n",
      "Epoch 9/30\n",
      "45/45 [==============================] - 9s 190ms/step - loss: 1.3858 - acc: 0.6687 - val_loss: 1.3414 - val_acc: 0.6955\n",
      "Epoch 10/30\n",
      "45/45 [==============================] - 9s 200ms/step - loss: 1.3558 - acc: 0.6715 - val_loss: 1.2969 - val_acc: 0.7116\n",
      "Epoch 11/30\n",
      "45/45 [==============================] - 8s 173ms/step - loss: 1.3089 - acc: 0.6829 - val_loss: 1.2652 - val_acc: 0.7098\n",
      "Epoch 12/30\n",
      "45/45 [==============================] - 11s 241ms/step - loss: 1.3027 - acc: 0.6576 - val_loss: 1.2399 - val_acc: 0.7054\n",
      "Epoch 13/30\n",
      "45/45 [==============================] - 10s 230ms/step - loss: 1.2574 - acc: 0.6836 - val_loss: 1.1950 - val_acc: 0.7196\n",
      "Epoch 14/30\n",
      "45/45 [==============================] - 10s 217ms/step - loss: 1.2356 - acc: 0.6785 - val_loss: 1.1776 - val_acc: 0.7143\n",
      "Epoch 15/30\n",
      "45/45 [==============================] - 8s 181ms/step - loss: 1.2372 - acc: 0.6646 - val_loss: 1.1402 - val_acc: 0.7223\n",
      "Epoch 16/30\n",
      "45/45 [==============================] - 12s 264ms/step - loss: 1.2202 - acc: 0.6549 - val_loss: 1.1491 - val_acc: 0.6964\n",
      "Epoch 17/30\n",
      "45/45 [==============================] - 10s 213ms/step - loss: 1.2145 - acc: 0.6632 - val_loss: 1.1161 - val_acc: 0.7134\n",
      "Epoch 18/30\n",
      "45/45 [==============================] - 10s 227ms/step - loss: 1.1826 - acc: 0.6638 - val_loss: 1.0997 - val_acc: 0.7196\n",
      "Epoch 19/30\n",
      "45/45 [==============================] - 10s 215ms/step - loss: 1.1498 - acc: 0.6799 - val_loss: 1.0714 - val_acc: 0.7179\n",
      "Epoch 20/30\n",
      "45/45 [==============================] - 9s 200ms/step - loss: 1.1175 - acc: 0.6864 - val_loss: 1.0613 - val_acc: 0.7143\n",
      "Epoch 21/30\n",
      "45/45 [==============================] - 8s 179ms/step - loss: 1.1162 - acc: 0.6653 - val_loss: 1.0661 - val_acc: 0.6964\n",
      "Epoch 22/30\n",
      "45/45 [==============================] - 10s 225ms/step - loss: 1.1150 - acc: 0.6792 - val_loss: 1.0609 - val_acc: 0.7000\n",
      "Epoch 23/30\n",
      "45/45 [==============================] - 9s 198ms/step - loss: 1.1229 - acc: 0.6528 - val_loss: 1.0294 - val_acc: 0.7063\n",
      "Epoch 24/30\n",
      "45/45 [==============================] - 9s 201ms/step - loss: 1.1088 - acc: 0.6625 - val_loss: 1.0171 - val_acc: 0.7107\n",
      "Epoch 25/30\n",
      "45/45 [==============================] - 8s 188ms/step - loss: 1.0680 - acc: 0.6833 - val_loss: 0.9867 - val_acc: 0.7161\n",
      "Epoch 26/30\n",
      "45/45 [==============================] - 6s 131ms/step - loss: 1.0602 - acc: 0.6681 - val_loss: 0.9938 - val_acc: 0.7071\n",
      "Epoch 27/30\n",
      "45/45 [==============================] - 6s 125ms/step - loss: 1.0530 - acc: 0.6785 - val_loss: 0.9678 - val_acc: 0.7196\n",
      "Epoch 28/30\n",
      "45/45 [==============================] - 6s 126ms/step - loss: 1.0127 - acc: 0.6921 - val_loss: 0.9370 - val_acc: 0.7259\n",
      "Epoch 29/30\n",
      "45/45 [==============================] - 6s 143ms/step - loss: 1.0445 - acc: 0.6611 - val_loss: 1.1737 - val_acc: 0.6036\n",
      "Epoch 30/30\n",
      "45/45 [==============================] - 6s 125ms/step - loss: 1.0747 - acc: 0.6500 - val_loss: 0.9665 - val_acc: 0.7045\n"
     ]
    },
    {
     "data": {
      "text/plain": [
       "<tensorflow.python.keras.callbacks.History at 0x253040a1be0>"
      ]
     },
     "execution_count": 17,
     "metadata": {},
     "output_type": "execute_result"
    }
   ],
   "source": [
    "model.fit_generator(x_train,steps_per_epoch = 45, epochs = 30, validation_data = x_test,validation_steps = 35)"
   ]
  },
  {
   "cell_type": "code",
   "execution_count": 18,
   "metadata": {},
   "outputs": [],
   "source": [
    "model.save(\"fruitnames.h5\")"
   ]
  },
  {
   "cell_type": "code",
   "execution_count": null,
   "metadata": {},
   "outputs": [],
   "source": []
  }
 ],
 "metadata": {
  "kernelspec": {
   "display_name": "Python 3",
   "language": "python",
   "name": "python3"
  },
  "language_info": {
   "codemirror_mode": {
    "name": "ipython",
    "version": 3
   },
   "file_extension": ".py",
   "mimetype": "text/x-python",
   "name": "python",
   "nbconvert_exporter": "python",
   "pygments_lexer": "ipython3",
   "version": "3.7.3"
  }
 },
 "nbformat": 4,
 "nbformat_minor": 2
}
